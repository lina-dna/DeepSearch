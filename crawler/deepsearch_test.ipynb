{
 "cells": [
  {
   "cell_type": "code",
   "execution_count": 6,
   "id": "ethical-furniture",
   "metadata": {},
   "outputs": [
    {
     "name": "stdout",
     "output_type": "stream",
     "text": [
      "env: STRAPI_HOSTS=http://13.124.235.216:1337/\n",
      "env: ES_HOSTS=https://search-deepsearch-bztxmrzp24xb4ms6tddde7vypm.ap-northeast-2.es.amazonaws.com\n",
      "env: ES_ID=deepsearch\n",
      "env: ES_PASSWD=Lina123$\n"
     ]
    }
   ],
   "source": [
    "%env STRAPI_HOSTS=http://13.124.235.216:1337/\n",
    "%env ES_HOSTS=https://search-deepsearch-bztxmrzp24xb4ms6tddde7vypm.ap-northeast-2.es.amazonaws.com\n",
    "%env ES_ID=deepsearch\n",
    "%env ES_PASSWD=Lina123$"
   ]
  },
  {
   "cell_type": "code",
   "execution_count": 7,
   "id": "adopted-comparative",
   "metadata": {},
   "outputs": [],
   "source": [
    "from utils import Get_Article_Body, ariticle_reply, get_article_df\n",
    "import datetime\n",
    "from selenium import webdriver\n",
    "import json\n",
    "import sys\n",
    "import os\n",
    "sys.path.append(os.path.dirname(os.path.abspath(os.path.dirname('DeepSearch'))))\n",
    "import requests\n",
    "import json"
   ]
  },
  {
   "cell_type": "code",
   "execution_count": 22,
   "id": "manufactured-subscriber",
   "metadata": {},
   "outputs": [
    {
     "name": "stdout",
     "output_type": "stream",
     "text": [
      "deepsearch\n"
     ]
    }
   ],
   "source": [
    "!echo $ES_ID"
   ]
  },
  {
   "cell_type": "code",
   "execution_count": 18,
   "id": "missing-citizen",
   "metadata": {},
   "outputs": [
    {
     "ename": "TypeError",
     "evalue": "'_Environ' object is not callable",
     "output_type": "error",
     "traceback": [
      "\u001b[0;31m---------------------------------------------------------------------------\u001b[0m",
      "\u001b[0;31mTypeError\u001b[0m                                 Traceback (most recent call last)",
      "\u001b[0;32m<ipython-input-18-048ffc523320>\u001b[0m in \u001b[0;36m<module>\u001b[0;34m\u001b[0m\n\u001b[0;32m----> 1\u001b[0;31m \u001b[0mos\u001b[0m\u001b[0;34m.\u001b[0m\u001b[0menviron\u001b[0m\u001b[0;34m(\u001b[0m\u001b[0;34m)\u001b[0m\u001b[0;34m\u001b[0m\u001b[0;34m\u001b[0m\u001b[0m\n\u001b[0m",
      "\u001b[0;31mTypeError\u001b[0m: '_Environ' object is not callable"
     ]
    }
   ],
   "source": [
    "os.environ()"
   ]
  },
  {
   "cell_type": "code",
   "execution_count": 14,
   "id": "mysterious-veteran",
   "metadata": {},
   "outputs": [
    {
     "name": "stdout",
     "output_type": "stream",
     "text": [
      "https://search-deepsearch-bztxmrzp24xb4ms6tddde7vypm.ap-northeast-2.es.amazonaws.com\n"
     ]
    }
   ],
   "source": [
    "print(os.getenv('ES_HOSTS'))"
   ]
  },
  {
   "cell_type": "code",
   "execution_count": 17,
   "id": "transsexual-updating",
   "metadata": {},
   "outputs": [
    {
     "name": "stdout",
     "output_type": "stream",
     "text": [
      "https://search-deepsearch-bztxmrzp24xb4ms6tddde7vypm.ap-northeast-2.es.amazonaws.com\n"
     ]
    }
   ],
   "source": [
    "print(os.environ.get('ES_HOSTS'))"
   ]
  },
  {
   "cell_type": "code",
   "execution_count": 8,
   "id": "satisfactory-ivory",
   "metadata": {},
   "outputs": [],
   "source": [
    "from elasticsearch import Elasticsearch"
   ]
  },
  {
   "cell_type": "code",
   "execution_count": 9,
   "id": "ranking-emperor",
   "metadata": {},
   "outputs": [],
   "source": [
    "from connector import strapi_connector"
   ]
  },
  {
   "cell_type": "code",
   "execution_count": 10,
   "id": "portuguese-fireplace",
   "metadata": {},
   "outputs": [],
   "source": [
    "from connector import es_connector"
   ]
  },
  {
   "cell_type": "code",
   "execution_count": 11,
   "id": "narrow-justice",
   "metadata": {},
   "outputs": [],
   "source": [
    "es = es_connector.ES()"
   ]
  },
  {
   "cell_type": "code",
   "execution_count": 12,
   "id": "academic-infrared",
   "metadata": {},
   "outputs": [
    {
     "data": {
      "text/plain": [
       "'yellow open klue-mrc-dev                    EKq-LljHQmyceeV4R9LVRw 5 1  5076  0  19.6mb  19.6mb\\nyellow open test                            _RtSuOgYQG-4uG9J5ulDNA 5 1     0  0     1kb     1kb\\ngreen  open .kibana_3599307_user_1          4hlmTMHSQXa35CeNSosAzQ 1 0     1  0   5.2kb   5.2kb\\nyellow open news-naver                      cMYtMNzDQOe37VN606U98g 5 1   185  0   2.7mb   2.7mb\\nyellow open crawling                        3AFnvNLvR2WzhDN8kFW9PQ 5 1    40  0 381.6kb 381.6kb\\ngreen  open .kibana_-700776044_deepsearch_1 87d-qHhWRlqV1KivHOsUxg 1 0    44 10  65.4kb  65.4kb\\nyellow open dailynews-naver                 8W52G-MPSki4kQDfloy-YQ 5 1   228  0   3.5mb   3.5mb\\ngreen  open .kibana_1                       lvca5kdxTb2Y1LVm1NCPZg 1 0   139 23  56.5kb  56.5kb\\ngreen  open .opendistro_security            VFXXzkbeQGqDMR7T2JDSSg 1 0     9  7  56.1kb  56.1kb\\ngreen  open .opendistro-reports-instances   tovqnZnqSi2Y1iEbyoFBig 1 0     1  0   6.4kb   6.4kb\\nyellow open klue-mrc-train                  IYNT_vsOTNyiHsaJ8thgEg 5 1 12174  0  49.6mb  49.6mb\\n'"
      ]
     },
     "execution_count": 12,
     "metadata": {},
     "output_type": "execute_result"
    }
   ],
   "source": [
    "es.allIndex()"
   ]
  },
  {
   "cell_type": "code",
   "execution_count": 6,
   "id": "massive-african",
   "metadata": {},
   "outputs": [],
   "source": [
    "strapi = strapi_connector.Strapi()"
   ]
  },
  {
   "cell_type": "code",
   "execution_count": 7,
   "id": "prescribed-breath",
   "metadata": {},
   "outputs": [
    {
     "data": {
      "text/plain": [
       "'http://13.124.235.216:1337/'"
      ]
     },
     "execution_count": 7,
     "metadata": {},
     "output_type": "execute_result"
    }
   ],
   "source": [
    "strapi.hosts"
   ]
  },
  {
   "cell_type": "code",
   "execution_count": 2,
   "id": "patent-spice",
   "metadata": {},
   "outputs": [
    {
     "ename": "TypeError",
     "evalue": "unsupported operand type(s) for +: 'NoneType' and 'str'",
     "output_type": "error",
     "traceback": [
      "\u001b[0;31m---------------------------------------------------------------------------\u001b[0m",
      "\u001b[0;31mTypeError\u001b[0m                                 Traceback (most recent call last)",
      "\u001b[0;32m<ipython-input-2-f336f31910f3>\u001b[0m in \u001b[0;36m<module>\u001b[0;34m\u001b[0m\n\u001b[1;32m      1\u001b[0m \u001b[0;31m# 검색 키워드\u001b[0m\u001b[0;34m\u001b[0m\u001b[0;34m\u001b[0m\u001b[0;34m\u001b[0m\u001b[0m\n\u001b[1;32m      2\u001b[0m \u001b[0mstrapi\u001b[0m \u001b[0;34m=\u001b[0m \u001b[0mstrapi_connector\u001b[0m\u001b[0;34m.\u001b[0m\u001b[0mStrapi\u001b[0m\u001b[0;34m(\u001b[0m\u001b[0;34m)\u001b[0m\u001b[0;34m\u001b[0m\u001b[0;34m\u001b[0m\u001b[0m\n\u001b[0;32m----> 3\u001b[0;31m \u001b[0mkeywords_db\u001b[0m \u001b[0;34m=\u001b[0m \u001b[0mstrapi\u001b[0m\u001b[0;34m.\u001b[0m\u001b[0mget_db\u001b[0m\u001b[0;34m(\u001b[0m\u001b[0;34m)\u001b[0m\u001b[0;34m\u001b[0m\u001b[0;34m\u001b[0m\u001b[0m\n\u001b[0m\u001b[1;32m      4\u001b[0m \u001b[0msearch_keywords\u001b[0m \u001b[0;34m=\u001b[0m \u001b[0;34m[\u001b[0m\u001b[0mK\u001b[0m\u001b[0;34m[\u001b[0m\u001b[0;34m'Keywords'\u001b[0m\u001b[0;34m]\u001b[0m \u001b[0;32mfor\u001b[0m \u001b[0mK\u001b[0m \u001b[0;32min\u001b[0m \u001b[0mkeywords_db\u001b[0m\u001b[0;34m]\u001b[0m\u001b[0;34m\u001b[0m\u001b[0;34m\u001b[0m\u001b[0m\n",
      "\u001b[0;32m~/project/DeepSearch/connector/strapi_connector.py\u001b[0m in \u001b[0;36mget_db\u001b[0;34m(self, collection)\u001b[0m\n\u001b[1;32m      9\u001b[0m \u001b[0;34m\u001b[0m\u001b[0m\n\u001b[1;32m     10\u001b[0m     \u001b[0;32mdef\u001b[0m \u001b[0mget_db\u001b[0m\u001b[0;34m(\u001b[0m\u001b[0mself\u001b[0m\u001b[0;34m,\u001b[0m\u001b[0mcollection\u001b[0m\u001b[0;34m:\u001b[0m \u001b[0mstr\u001b[0m \u001b[0;34m=\u001b[0m \u001b[0mstrapi_config\u001b[0m\u001b[0;34m.\u001b[0m\u001b[0mcollection\u001b[0m\u001b[0;34m)\u001b[0m\u001b[0;34m:\u001b[0m\u001b[0;34m\u001b[0m\u001b[0;34m\u001b[0m\u001b[0m\n\u001b[0;32m---> 11\u001b[0;31m         response = requests.get(self.hosts + collection,\n\u001b[0m\u001b[1;32m     12\u001b[0m                       headers={\n\u001b[1;32m     13\u001b[0m                         \u001b[0;34m'Content-Type'\u001b[0m\u001b[0;34m:\u001b[0m \u001b[0;34m'application/json'\u001b[0m\u001b[0;34m\u001b[0m\u001b[0;34m\u001b[0m\u001b[0m\n",
      "\u001b[0;31mTypeError\u001b[0m: unsupported operand type(s) for +: 'NoneType' and 'str'"
     ]
    }
   ],
   "source": [
    "# 검색 키워드 \n",
    "strapi = strapi_connector.Strapi()\n",
    "keywords_db = strapi.get_db()\n",
    "search_keywords = [K['Keywords'] for K in keywords_db]"
   ]
  },
  {
   "cell_type": "code",
   "execution_count": null,
   "id": "soviet-century",
   "metadata": {},
   "outputs": [],
   "source": [
    "#chrome driver\n",
    "chrome_options = webdriver.ChromeOptions()\n",
    "chrome_options.add_argument(\"--headless\")\n",
    "chrome_options.add_argument(\"--no-sandbox\")\n",
    "chrome_options.add_argument(\"--disable-dev-shm-usage\")\n",
    "driver = webdriver.Chrome(\"chromedriver\", options = chrome_options)\n",
    "\n",
    "# 기간 설정\n",
    "today = datetime.datetime.now()\n",
    "yesterday = today + datetime.timedelta(days=-1)\n",
    "years = [yesterday.strftime(\"%Y-%m-%d\")[:4]]\n",
    "months = [yesterday.strftime(\"%Y-%m-%d\")[5:7]]\n",
    "all_days = [yesterday.strftime(\"%Y-%m-%d\")[-2:]]\n",
    "article_url_df = get_article_df(years, months, all_days, search_keywords, driver)\n",
    "urls = article_url_df['url']\n",
    "\n",
    "#기사 내용 수집\n",
    "article_dicts = []\n",
    "reply_dfs = []\n",
    "\n",
    "#ElasticSearch\n",
    "es = es_connector.ES()\n",
    "index_name = 'dailynews-naver'\n",
    "# from utils import es_schema\n",
    "# settings = es_schema.settings\n",
    "# mappings = es_schema.mappings\n",
    "# es.createIndex(index=index_name,settings=settings, mappings=mappings)\n",
    "for i in range(len(article_url_df)):\n",
    "    try:\n",
    "        article_dict = Get_Article_Body(article_url_df['url'][i],driver)\n",
    "        article_dict['토픽'] = article_url_df['search_keyword'][i]\n",
    "        #print(article_dict)\n",
    "        es.dataInsert(index=index_name, data=article_dict)\n",
    "        #reply_df = ariticle_reply()\n",
    "        #reply_dfs.append(reply_df)\n",
    "    except:\n",
    "        continue"
   ]
  }
 ],
 "metadata": {
  "kernelspec": {
   "display_name": "ELK",
   "language": "python",
   "name": "elk"
  },
  "language_info": {
   "codemirror_mode": {
    "name": "ipython",
    "version": 3
   },
   "file_extension": ".py",
   "mimetype": "text/x-python",
   "name": "python",
   "nbconvert_exporter": "python",
   "pygments_lexer": "ipython3",
   "version": "3.7.10"
  }
 },
 "nbformat": 4,
 "nbformat_minor": 5
}
