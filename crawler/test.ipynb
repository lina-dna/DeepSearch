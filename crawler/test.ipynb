{
 "cells": [
  {
   "cell_type": "code",
   "execution_count": 11,
   "id": "2c69c7a6-82bf-475f-99e3-3f5a64c7595e",
   "metadata": {},
   "outputs": [],
   "source": [
    "import sys\n",
    "import os\n",
    "sys.path.append(os.path.dirname(os.path.abspath(os.path.dirname('DeepSearch'))))\n",
    "from connector import es_connector\n",
    "import json"
   ]
  },
  {
   "cell_type": "code",
   "execution_count": 29,
   "id": "cf436b70-654a-4194-96dd-9ec90abe6e21",
   "metadata": {},
   "outputs": [],
   "source": [
    "#es.deleteIndex('textindex2')"
   ]
  },
  {
   "cell_type": "code",
   "execution_count": 31,
   "id": "3ed43f49-e0e0-49e9-88e3-e2d742bfd2ec",
   "metadata": {},
   "outputs": [],
   "source": [
    "es = es_connector.ES()"
   ]
  },
  {
   "cell_type": "code",
   "execution_count": 32,
   "id": "549d142d-b50d-409a-90d1-1158cbee5de9",
   "metadata": {},
   "outputs": [
    {
     "name": "stdout",
     "output_type": "stream",
     "text": [
      "yellow open klue-mrc-dev                    EKq-LljHQmyceeV4R9LVRw 5 1  5076   0 19.6mb 19.6mb\n",
      "green  open .kibana_-700776044_deepsearch_1 87d-qHhWRlqV1KivHOsUxg 1 0     4   1 15.6kb 15.6kb\n",
      "green  open .opendistro_security            VFXXzkbeQGqDMR7T2JDSSg 1 0     9   4 59.5kb 59.5kb\n",
      "green  open .kibana_1                       lvca5kdxTb2Y1LVm1NCPZg 1 0    67 191 71.5kb 71.5kb\n",
      "yellow open klue-mrc-train                  IYNT_vsOTNyiHsaJ8thgEg 5 1 12174   0 49.6mb 49.6mb\n",
      "\n"
     ]
    }
   ],
   "source": [
    "print(es.allIndex())"
   ]
  },
  {
   "cell_type": "code",
   "execution_count": 33,
   "id": "78478c80-6a47-47a7-8f2e-2e91b1e04dea",
   "metadata": {},
   "outputs": [],
   "source": [
    "\n",
    "with open('settings.json','r') as f:\n",
    "    settings = json.load(f)\n",
    "    \n",
    "with open('mappings.json','r') as f:\n",
    "    mappings = json.load(f)\n",
    "    \n",
    "es.createIndex(index='news-naver',settings=settings, mappings=mappings)"
   ]
  },
  {
   "cell_type": "code",
   "execution_count": 60,
   "id": "bec4dd0a-319e-41c2-9e8e-924140258638",
   "metadata": {},
   "outputs": [],
   "source": [
    "from utils import Get_Article_Body, ariticle_reply, get_article_df\n",
    "import datetime\n",
    "from selenium.webdriver import Chrome\n",
    "import json\n",
    "import sys\n",
    "import os\n",
    "sys.path.append(os.path.dirname(os.path.abspath(os.path.dirname('DeepSearch'))))\n",
    "\n",
    "today = datetime.datetime.now()\n",
    "yesterday = today + datetime.timedelta(days=-1)\n",
    "\n",
    "\n",
    "# 검색 키워드 입력\n",
    "search_keywords = ['삼성생명']\n",
    "\n",
    "# 기간 설정\n",
    "years = [yesterday.strftime(\"%Y-%m-%d\")[:4]]\n",
    "months = [datetime.datetime.now().strftime(\"%Y-%m-%d\")[5:7]]\n",
    "all_days = [yesterday.strftime(\"%Y-%m-%d\")[-2:]]\n",
    "\n",
    "driver = Chrome()\n",
    "article_url_df = get_article_df(years, months, all_days, search_keywords, driver)\n",
    "urls = article_url_df['url']\n",
    "#기사 내용 수집\n",
    "article_dicts = []\n",
    "reply_dfs = []\n"
   ]
  },
  {
   "cell_type": "code",
   "execution_count": null,
   "id": "2105e2a1-07e2-47d3-b533-6696011cb527",
   "metadata": {
    "tags": []
   },
   "outputs": [],
   "source": [
    "for url in urls:\n",
    "    try:\n",
    "        article_dict = Get_Article_Body(url,driver)\n",
    "        article_dict['search_keywords'] = search_keywords[0]\n",
    "        es.dataInsert(index='news-naver', data=article_dict)\n",
    "        #reply_df = ariticle_reply()\n",
    "        #reply_dfs.append(reply_df)\n",
    "    except:\n",
    "        continue"
   ]
  },
  {
   "cell_type": "code",
   "execution_count": null,
   "id": "18bee6c2-1e7f-44b2-bfe9-5005ffc12bd2",
   "metadata": {},
   "outputs": [],
   "source": []
  }
 ],
 "metadata": {
  "kernelspec": {
   "display_name": "Python 3",
   "language": "python",
   "name": "python3"
  },
  "language_info": {
   "codemirror_mode": {
    "name": "ipython",
    "version": 3
   },
   "file_extension": ".py",
   "mimetype": "text/x-python",
   "name": "python",
   "nbconvert_exporter": "python",
   "pygments_lexer": "ipython3",
   "version": "3.7.10"
  }
 },
 "nbformat": 4,
 "nbformat_minor": 5
}
