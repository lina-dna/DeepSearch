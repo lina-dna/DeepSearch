{
 "cells": [
  {
   "cell_type": "markdown",
   "id": "0264b37e-0f8b-475d-9534-40fc41cc4b8c",
   "metadata": {},
   "source": [
    "### strapi"
   ]
  },
  {
   "cell_type": "code",
   "execution_count": 32,
   "id": "511f3c78-caac-4211-8644-a1900b0466e4",
   "metadata": {},
   "outputs": [],
   "source": [
    "import requests\n",
    "import json\n",
    "\n",
    "response = requests.get(\"http://13.124.235.216:1337/crawler-keywords\",\n",
    "  headers={\n",
    "    'Content-Type': 'application/json'\n",
    "  })\n",
    "\n",
    "strapi_db = json.loads(response.text)\n",
    "\n",
    "[Key['Keywords'] for Key in strapi_db]"
   ]
  },
  {
   "cell_type": "markdown",
   "id": "92409b8c-f29e-45fb-8e61-9ec4eb68502e",
   "metadata": {},
   "source": [
    "### es"
   ]
  },
  {
   "cell_type": "code",
   "execution_count": 14,
   "id": "2c69c7a6-82bf-475f-99e3-3f5a64c7595e",
   "metadata": {},
   "outputs": [],
   "source": [
    "import sys\n",
    "import os\n",
    "sys.path.append(os.path.dirname(os.path.abspath(os.path.dirname('DeepSearch'))))\n",
    "from connector import es_connector\n",
    "import json"
   ]
  },
  {
   "cell_type": "code",
   "execution_count": 16,
   "id": "3ed43f49-e0e0-49e9-88e3-e2d742bfd2ec",
   "metadata": {},
   "outputs": [],
   "source": [
    "es = es_connector.ES()"
   ]
  },
  {
   "cell_type": "code",
   "execution_count": 39,
   "id": "549d142d-b50d-409a-90d1-1158cbee5de9",
   "metadata": {},
   "outputs": [
    {
     "name": "stdout",
     "output_type": "stream",
     "text": [
      "yellow open klue-mrc-dev                    EKq-LljHQmyceeV4R9LVRw 5 1  5076   0  19.6mb  19.6mb\n",
      "yellow open news-naver                      cMYtMNzDQOe37VN606U98g 5 1   186   0   2.9mb   2.9mb\n",
      "yellow open crawling                        3AFnvNLvR2WzhDN8kFW9PQ 5 1    40   0 381.6kb 381.6kb\n",
      "green  open .kibana_-700776044_deepsearch_1 87d-qHhWRlqV1KivHOsUxg 1 0    23  13  92.5kb  92.5kb\n",
      "green  open .kibana_1                       lvca5kdxTb2Y1LVm1NCPZg 1 0    66 146 105.7kb 105.7kb\n",
      "green  open .opendistro_security            VFXXzkbeQGqDMR7T2JDSSg 1 0     9   4  59.5kb  59.5kb\n",
      "yellow open klue-mrc-train                  IYNT_vsOTNyiHsaJ8thgEg 5 1 12174   0  49.6mb  49.6mb\n",
      "\n"
     ]
    }
   ],
   "source": [
    "print(es.allIndex())"
   ]
  },
  {
   "cell_type": "code",
   "execution_count": 23,
   "id": "cf436b70-654a-4194-96dd-9ec90abe6e21",
   "metadata": {},
   "outputs": [],
   "source": [
    "#es.deleteIndex('news_naver')"
   ]
  },
  {
   "cell_type": "code",
   "execution_count": 32,
   "id": "78478c80-6a47-47a7-8f2e-2e91b1e04dea",
   "metadata": {},
   "outputs": [],
   "source": [
    "# with open('settings.json','r') as f:\n",
    "#     settings = json.load(f)\n",
    "    \n",
    "# with open('mappings.json','r') as f:\n",
    "#     mappings = json.load(f)\n",
    "    \n",
    "# es.createIndex(index='news-naver',settings=settings, mappings=mappings)"
   ]
  },
  {
   "cell_type": "code",
   "execution_count": 33,
   "id": "bec4dd0a-319e-41c2-9e8e-924140258638",
   "metadata": {},
   "outputs": [],
   "source": [
    "from utils import Get_Article_Body, ariticle_reply, get_article_df\n",
    "import datetime\n",
    "from selenium.webdriver import Chrome\n",
    "import json\n",
    "import sys\n",
    "import os\n",
    "sys.path.append(os.path.dirname(os.path.abspath(os.path.dirname('DeepSearch'))))\n",
    "\n",
    "today = datetime.datetime.now()\n",
    "yesterday = today + datetime.timedelta(days=-1)\n",
    "\n",
    "\n",
    "# 검색 키워드 입력\n",
    "search_keywords = ['삼성생명','라이나생명','ESG','보험','금융']\n",
    "\n",
    "# 기간 설정\n",
    "years = [yesterday.strftime(\"%Y-%m-%d\")[:4]]\n",
    "months = [datetime.datetime.now().strftime(\"%Y-%m-%d\")[5:7]]\n",
    "#all_days = [yesterday.strftime(\"%Y-%m-%d\")[-2:]]\n",
    "all_days = list(range(1,19))\n",
    "\n",
    "\n",
    "driver = Chrome()\n",
    "article_url_df = get_article_df(years, months, all_days, search_keywords, driver)\n",
    "#기사 내용 수집\n",
    "article_dicts = []\n",
    "reply_dfs = []\n"
   ]
  },
  {
   "cell_type": "code",
   "execution_count": 45,
   "id": "eb7cf62d-e8b6-4a86-b955-0ae8da0d3558",
   "metadata": {},
   "outputs": [
    {
     "data": {
      "text/html": [
       "<div>\n",
       "<style scoped>\n",
       "    .dataframe tbody tr th:only-of-type {\n",
       "        vertical-align: middle;\n",
       "    }\n",
       "\n",
       "    .dataframe tbody tr th {\n",
       "        vertical-align: top;\n",
       "    }\n",
       "\n",
       "    .dataframe thead th {\n",
       "        text-align: right;\n",
       "    }\n",
       "</style>\n",
       "<table border=\"1\" class=\"dataframe\">\n",
       "  <thead>\n",
       "    <tr style=\"text-align: right;\">\n",
       "      <th></th>\n",
       "      <th>YEAR</th>\n",
       "      <th>MONTH</th>\n",
       "      <th>DAY</th>\n",
       "      <th>url</th>\n",
       "      <th>search_keyword</th>\n",
       "    </tr>\n",
       "  </thead>\n",
       "  <tbody>\n",
       "    <tr>\n",
       "      <th>0</th>\n",
       "      <td>2021</td>\n",
       "      <td>06</td>\n",
       "      <td>1</td>\n",
       "      <td>https://news.naver.com/main/read.nhn?mode=LSD&amp;...</td>\n",
       "      <td>삼성생명</td>\n",
       "    </tr>\n",
       "    <tr>\n",
       "      <th>1</th>\n",
       "      <td>2021</td>\n",
       "      <td>06</td>\n",
       "      <td>1</td>\n",
       "      <td>https://news.naver.com/main/read.nhn?mode=LSD&amp;...</td>\n",
       "      <td>삼성생명</td>\n",
       "    </tr>\n",
       "    <tr>\n",
       "      <th>2</th>\n",
       "      <td>2021</td>\n",
       "      <td>06</td>\n",
       "      <td>1</td>\n",
       "      <td>https://news.naver.com/main/read.nhn?mode=LSD&amp;...</td>\n",
       "      <td>삼성생명</td>\n",
       "    </tr>\n",
       "    <tr>\n",
       "      <th>3</th>\n",
       "      <td>2021</td>\n",
       "      <td>06</td>\n",
       "      <td>1</td>\n",
       "      <td>https://news.naver.com/main/read.nhn?mode=LSD&amp;...</td>\n",
       "      <td>삼성생명</td>\n",
       "    </tr>\n",
       "    <tr>\n",
       "      <th>4</th>\n",
       "      <td>2021</td>\n",
       "      <td>06</td>\n",
       "      <td>1</td>\n",
       "      <td>https://news.naver.com/main/read.nhn?mode=LSD&amp;...</td>\n",
       "      <td>삼성생명</td>\n",
       "    </tr>\n",
       "    <tr>\n",
       "      <th>...</th>\n",
       "      <td>...</td>\n",
       "      <td>...</td>\n",
       "      <td>...</td>\n",
       "      <td>...</td>\n",
       "      <td>...</td>\n",
       "    </tr>\n",
       "    <tr>\n",
       "      <th>188</th>\n",
       "      <td>2021</td>\n",
       "      <td>06</td>\n",
       "      <td>17</td>\n",
       "      <td>https://news.naver.com/main/read.nhn?mode=LSD&amp;...</td>\n",
       "      <td>금융</td>\n",
       "    </tr>\n",
       "    <tr>\n",
       "      <th>189</th>\n",
       "      <td>2021</td>\n",
       "      <td>06</td>\n",
       "      <td>17</td>\n",
       "      <td>https://news.naver.com/main/read.nhn?mode=LSD&amp;...</td>\n",
       "      <td>금융</td>\n",
       "    </tr>\n",
       "    <tr>\n",
       "      <th>190</th>\n",
       "      <td>2021</td>\n",
       "      <td>06</td>\n",
       "      <td>17</td>\n",
       "      <td>https://news.naver.com/main/read.nhn?mode=LSD&amp;...</td>\n",
       "      <td>금융</td>\n",
       "    </tr>\n",
       "    <tr>\n",
       "      <th>191</th>\n",
       "      <td>2021</td>\n",
       "      <td>06</td>\n",
       "      <td>17</td>\n",
       "      <td>https://news.naver.com/main/read.nhn?mode=LSD&amp;...</td>\n",
       "      <td>금융</td>\n",
       "    </tr>\n",
       "    <tr>\n",
       "      <th>192</th>\n",
       "      <td>2021</td>\n",
       "      <td>06</td>\n",
       "      <td>17</td>\n",
       "      <td>https://news.naver.com/main/read.nhn?mode=LSD&amp;...</td>\n",
       "      <td>금융</td>\n",
       "    </tr>\n",
       "  </tbody>\n",
       "</table>\n",
       "<p>193 rows × 5 columns</p>\n",
       "</div>"
      ],
      "text/plain": [
       "     YEAR MONTH  DAY                                                url  \\\n",
       "0    2021    06    1  https://news.naver.com/main/read.nhn?mode=LSD&...   \n",
       "1    2021    06    1  https://news.naver.com/main/read.nhn?mode=LSD&...   \n",
       "2    2021    06    1  https://news.naver.com/main/read.nhn?mode=LSD&...   \n",
       "3    2021    06    1  https://news.naver.com/main/read.nhn?mode=LSD&...   \n",
       "4    2021    06    1  https://news.naver.com/main/read.nhn?mode=LSD&...   \n",
       "..    ...   ...  ...                                                ...   \n",
       "188  2021    06   17  https://news.naver.com/main/read.nhn?mode=LSD&...   \n",
       "189  2021    06   17  https://news.naver.com/main/read.nhn?mode=LSD&...   \n",
       "190  2021    06   17  https://news.naver.com/main/read.nhn?mode=LSD&...   \n",
       "191  2021    06   17  https://news.naver.com/main/read.nhn?mode=LSD&...   \n",
       "192  2021    06   17  https://news.naver.com/main/read.nhn?mode=LSD&...   \n",
       "\n",
       "    search_keyword  \n",
       "0             삼성생명  \n",
       "1             삼성생명  \n",
       "2             삼성생명  \n",
       "3             삼성생명  \n",
       "4             삼성생명  \n",
       "..             ...  \n",
       "188             금융  \n",
       "189             금융  \n",
       "190             금융  \n",
       "191             금융  \n",
       "192             금융  \n",
       "\n",
       "[193 rows x 5 columns]"
      ]
     },
     "execution_count": 45,
     "metadata": {},
     "output_type": "execute_result"
    }
   ],
   "source": [
    "article_url_df"
   ]
  },
  {
   "cell_type": "code",
   "execution_count": null,
   "id": "2105e2a1-07e2-47d3-b533-6696011cb527",
   "metadata": {
    "tags": []
   },
   "outputs": [],
   "source": [
    "for i in range(len(article_url_df)):\n",
    "    try:\n",
    "        article_dict = Get_Article_Body(article_url_df['url'][i],driver)\n",
    "        article_dict['search_keywords'] = article_url_df['search_keyword'][i]\n",
    "        es.dataInsert(index='news-naver', data=article_dict)\n",
    "        #reply_df = ariticle_reply()\n",
    "        #reply_dfs.append(reply_df)\n",
    "    except:\n",
    "        continue"
   ]
  },
  {
   "cell_type": "code",
   "execution_count": null,
   "id": "18bee6c2-1e7f-44b2-bfe9-5005ffc12bd2",
   "metadata": {},
   "outputs": [],
   "source": []
  }
 ],
 "metadata": {
  "kernelspec": {
   "display_name": "Python 3",
   "language": "python",
   "name": "python3"
  },
  "language_info": {
   "codemirror_mode": {
    "name": "ipython",
    "version": 3
   },
   "file_extension": ".py",
   "mimetype": "text/x-python",
   "name": "python",
   "nbconvert_exporter": "python",
   "pygments_lexer": "ipython3",
   "version": "3.7.10"
  }
 },
 "nbformat": 4,
 "nbformat_minor": 5
}
